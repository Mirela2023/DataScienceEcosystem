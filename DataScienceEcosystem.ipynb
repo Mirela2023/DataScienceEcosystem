{
  "metadata": {
    "kernelspec": {
      "name": "python",
      "display_name": "Python (Pyodide)",
      "language": "python"
    },
    "language_info": {
      "codemirror_mode": {
        "name": "python",
        "version": 3
      },
      "file_extension": ".py",
      "mimetype": "text/x-python",
      "name": "python",
      "nbconvert_exporter": "python",
      "pygments_lexer": "ipython3",
      "version": "3.8"
    }
  },
  "nbformat_minor": 4,
  "nbformat": 4,
  "cells": [
    {
      "cell_type": "markdown",
      "source": "# Data Science Tools and Ecosystem",
      "metadata": {}
    },
    {
      "cell_type": "markdown",
      "source": "In this notebook, Data Science Tools and Ecosystem are summarized.",
      "metadata": {}
    },
    {
      "cell_type": "markdown",
      "source": "**Objectives:**\n- List popular languages for Data Science\n- List some of the popular languages used by Data Scientists\n- Descrive some of the commonly libraries used by Data Scientists\n- List in a table some Data Science Tools\n- Examples of evaluating arithmetic expressions in Python",
      "metadata": {}
    },
    {
      "cell_type": "markdown",
      "source": "Some of the popular languages that Data Scientists use are:\n1. Python\n2. R\n3. SQL",
      "metadata": {}
    },
    {
      "cell_type": "markdown",
      "source": "Some of the commonly used libraries used by Data Scientists include:\n1. **NumPy**: A fundamental package for scientific computing with Python. It provides support for arrays, matrices, and many mathematical functions.\n2. **Pandas**: A powerful data manipulation and analysis library. It provides data structures like DataFrames, which are essential for data cleaning, transformation, and analysis.\n3. **Matplotlib**: A plotting library for creating static, animated, and interactive visualizations in Python. It is widely used for data visualization tasks.\n4. **SciPy**: A library used for scientific and technical computing. It builds on NumPy and provides additional functionality for optimization, integration, and statistics.\n5. **Scikit-learn**: A machine learning library that provides simple and efficient tools for data mining and data analysis. It includes various classification, regression, and clustering algorithms.\n6. **TensorFlow**: An open-source machine learning framework developed by Google. It is used for implementing deep learning models and neural networks.\n7. **Keras**: A high-level neural networks API, written in Python and capable of running on top of TensorFlow, CNTK, or Theano. It is user-friendly and modular, making it easy to build and train neural network models.",
      "metadata": {}
    },
    {
      "cell_type": "markdown",
      "source": "| Data Science Tools|\n| ----------------- |\n| Jupyter Notebook  |\n| RStudio           |\n| Apache Zeppelin   |",
      "metadata": {}
    },
    {
      "cell_type": "markdown",
      "source": "## Below are a few examples of evaluating arithmetic expressions in Python. ##",
      "metadata": {}
    },
    {
      "cell_type": "code",
      "source": "#This a simple arithmetic expression to mutiply then add integers\n(3*4)+5",
      "metadata": {
        "trusted": true
      },
      "outputs": [
        {
          "execution_count": 5,
          "output_type": "execute_result",
          "data": {
            "text/plain": "17"
          },
          "metadata": {}
        }
      ],
      "execution_count": 5
    },
    {
      "cell_type": "code",
      "source": "# This will convert 200 minutes to hours by diving by 60\n200/60",
      "metadata": {
        "trusted": true
      },
      "outputs": [
        {
          "execution_count": 7,
          "output_type": "execute_result",
          "data": {
            "text/plain": "3.3333333333333335"
          },
          "metadata": {}
        }
      ],
      "execution_count": 7
    },
    {
      "cell_type": "markdown",
      "source": "## Author ##\nMorosan Mirela Magdalena",
      "metadata": {}
    }
  ]
}